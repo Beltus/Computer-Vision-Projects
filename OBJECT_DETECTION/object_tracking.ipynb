{
 "cells": [
  {
   "cell_type": "markdown",
   "metadata": {},
   "source": [
    "# Import Libraries"
   ]
  },
  {
   "cell_type": "code",
   "execution_count": 1,
   "metadata": {},
   "outputs": [],
   "source": [
    "import cv2\n",
    "import numpy as np\n",
    "#import time"
   ]
  },
  {
   "cell_type": "markdown",
   "metadata": {},
   "source": [
    "## Main Program"
   ]
  },
  {
   "cell_type": "code",
   "execution_count": 40,
   "metadata": {},
   "outputs": [],
   "source": [
    "def main():\n",
    "    \n",
    "    ##Set color Threshold\n",
    "    #color_lower = np.array([0 , 50 , 160] , dtype = 'uint8'); #sets lower threshold for blue color\n",
    "    color_lower = np.array([150 , 50 , 0] , dtype = 'uint8'); #sets lower threshold for blue color\n",
    "\n",
    "\n",
    "    #color_upper = np.array([100, 150 , 255] , dtype = 'uint8'); #sets upper threshold for blue color\n",
    "    color_upper = np.array([255, 150 , 100] , dtype = 'uint8'); #sets upper threshold for blue color\n",
    "    \n",
    "    #capture the video from webcam\n",
    "    capture = cv2.VideoCapture('camera.avi')\n",
    "    \n",
    "    \n",
    "    #get the frame width and height and convert to integers\n",
    "    frame_width = int(capture.get(3))\n",
    "    frame_height = int(capture.get(4))\n",
    "\n",
    "    # Define the codec and create VideoWriter object.The output is stored in 'outpy.avi' file.\n",
    "    out = cv2.VideoWriter('threshold.avi',cv2.VideoWriter_fourcc('M','J','P','G'), 10, (frame_width,frame_height))\n",
    "                          \n",
    "                          \n",
    "    while True:\n",
    "\n",
    "        ret, frame = capture.read()\n",
    "\n",
    "        if not ret:\n",
    "            break\n",
    "        \n",
    "        \n",
    "        #resize frame to half its width and height\n",
    "        resize_frame = cv2.resize(frame, None, fx = 1, fy = 1, interpolation = cv2.INTER_AREA) #resize image to width of 100 and height of 100 respectively\n",
    "        \n",
    "        #threshold based on color\n",
    "        color_threshold = cv2.inRange(resize_frame , color_lower , color_upper); #cv2.inRange() returns a binary image with pixels that fall with the color range set to white(255) and the rest set to black(0)\n",
    "\n",
    "        blur = cv2.GaussianBlur(color_threshold , (3, 3) , 0); # to reduce noise and increase detection of the tracking of our object\n",
    "\n",
    "        (cnts , _)  = cv2.findContours(blur.copy() , cv2.RETR_EXTERNAL , cv2.CHAIN_APPROX_SIMPLE); #cv2.findContours is used to get the contours corresponding to the object.\n",
    "        #Returns a list of contours each corresponding to detected object color boundaries\n",
    "        # copy of image is made as this function is destructive to numpy arrays\n",
    "\n",
    "        if len(cnts) > 0:\n",
    "            cnt = sorted(cnts , key = cv2.contourArea , reverse = True)[0] # sorts the list of contours from largest to smallest and returns the largest based on area(cv2.contourArea) which is assumed \t\t\t\t\t\t\t\t\t\t      #\tto be the object interest\n",
    "\n",
    "            bbox = cv2.minAreaRect(cnt);#cv2.minAreaRect() computes the mininimum bounding box around the contour,\n",
    "            rects = np.int0(cv2.boxPoints(bbox)) # BoxPoints()converts these bounding box to list of points # \n",
    "                #Note without the 0 in **np.int0** the error TypeError: only size-1 arrays can be converted Python scalars\n",
    "\n",
    "            cv2.drawContours(resize_frame , [rects] , -1 , (0, 255, 0) , 2);# Draw a bounding around object. frame is image to draw box , -1 draws all contours, (0,255,0) color of bounding box, 2 is line thickness\n",
    "        \n",
    "        # Write the frame into the file 'output.avi'\n",
    "        #out.write(blur)\n",
    "                          \n",
    "        cv2.imshow('Tracking In Progress'  , resize_frame) ;\n",
    "        cv2.imshow('Threshold' , blur);\n",
    "\n",
    "        #time.sleep(0.0025);\n",
    "\n",
    "        key = cv2.waitKey(30) & 0xff\n",
    "\n",
    "        if key == 27:\n",
    "            break;\n",
    "\n",
    "    capture.release();\n",
    "    out.release();\n",
    "    cv2.destroyAllWindows()"
   ]
  },
  {
   "cell_type": "markdown",
   "metadata": {},
   "source": [
    "## Run the Program"
   ]
  },
  {
   "cell_type": "code",
   "execution_count": 45,
   "metadata": {},
   "outputs": [],
   "source": [
    "if __name__ == '__main__':\n",
    "    main()"
   ]
  },
  {
   "cell_type": "code",
   "execution_count": null,
   "metadata": {},
   "outputs": [],
   "source": []
  },
  {
   "cell_type": "code",
   "execution_count": null,
   "metadata": {},
   "outputs": [],
   "source": []
  }
 ],
 "metadata": {
  "kernelspec": {
   "display_name": "Python 3",
   "language": "python",
   "name": "python3"
  },
  "language_info": {
   "codemirror_mode": {
    "name": "ipython",
    "version": 3
   },
   "file_extension": ".py",
   "mimetype": "text/x-python",
   "name": "python",
   "nbconvert_exporter": "python",
   "pygments_lexer": "ipython3",
   "version": "3.6.8"
  }
 },
 "nbformat": 4,
 "nbformat_minor": 2
}
